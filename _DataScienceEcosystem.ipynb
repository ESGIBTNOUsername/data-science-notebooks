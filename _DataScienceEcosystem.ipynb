{
 "cells": [
  {
   "cell_type": "markdown",
   "id": "5522b446-232c-4467-92e3-e6642ad5d060",
   "metadata": {
    "tags": []
   },
   "source": [
    "# Data Science Tools and Ecosystem"
   ]
  },
  {
   "cell_type": "markdown",
   "id": "7cfe5722-6106-454c-8d2f-35cc4a566ae5",
   "metadata": {},
   "source": [
    "In this notebook, Data Science Tools and Ecosystem are summarized."
   ]
  },
  {
   "cell_type": "markdown",
   "id": "f0b4fbcb-2869-4571-8832-552c96ae664c",
   "metadata": {},
   "source": [
    "# Data Science Languages  \n",
    "  \n",
    "Some of the popular languages that Data Scientists use are:  \n",
    "  \n",
    "1. Python  \n",
    "   - Python is one of the most popular programming languages in data science due to its concise syntax, powerful libraries, and wide range of applications.  \n",
    "  \n",
    "2. R  \n",
    "   - R is a programming language and software environment designed specifically for statistical analysis and graphical representation. It boasts a rich set of statistical computing and data analysis capabilities, making it a vital tool in the data science field.  \n",
    "  \n",
    "3. Julia  \n",
    "   - Julia is a high-performance dynamic programming language designed to combine the ease of use of Python with the speed of C++. It is well-suited for data science, machine learning, and scientific computing.  "
   ]
  },
  {
   "cell_type": "markdown",
   "id": "1cfc0ca8-9d49-4360-b059-4b2d57ae926d",
   "metadata": {},
   "source": [
    "# Data Science Libraries  \n",
    "  \n",
    "Some of the commonly used libraries used by Data Scientists include:  \n",
    "  \n",
    "1. **Pandas**  \n",
    "   - Pandas is a powerful Python library for data manipulation and analysis. It provides high-performance, easy-to-use data structures and data analysis tools.  \n",
    "  \n",
    "2. **NumPy**  \n",
    "   - NumPy is the fundamental package for scientific computing in Python. It provides a multidimensional array object, various derived objects (such as masked arrays and matrices), and an assortment of routines for fast operations on arrays, including mathematical, logical, shape manipulation, sorting, selecting, I/O, discrete Fourier transforms, basic linear algebra, basic statistical operations, random simulation and much more.  \n",
    "  \n",
    "3. **Scikit-learn**  \n",
    "   - Scikit-learn is a simple and efficient tool for data mining and data analysis built on NumPy, SciPy, and matplotlib. It is intended for use through both Python scripts and the IPython shell. Scikit-learn provides simple and efficient tools for data mining and data analysis across the entire process, from data preprocessing to model evaluation.  \n",
    "  \n",
    "4. **TensorFlow** / **PyTorch**  \n",
    "   - TensorFlow and PyTorch are two popular deep learning libraries used by data scientists and machine learning engineers. They enable the construction and training of neural networks for a wide range of applications, including image recognition, natural language processing, and time series analysis.  "
   ]
  },
  {
   "cell_type": "markdown",
   "id": "5cdcc164-0e97-485c-bdd1-57bb71fe37a3",
   "metadata": {},
   "source": [
    "| Data Science Tools |  \n",
    "| --- |  \n",
    "| Jupyter Notebook |  \n",
    "| RStudio |  \n",
    "| Visual Studio Code (with extensions for data science) |"
   ]
  },
  {
   "cell_type": "markdown",
   "id": "12ae4eb6-c473-4d93-8ac4-7bd878976dae",
   "metadata": {},
   "source": [
    "### Below are a few examples of evaluating arithmetic expressions in Python  \n",
    "  \n",
    "Python is a powerful programming language that supports a wide range of arithmetic operations. Here are a few examples of how you can evaluate arithmetic expressions in Python:  \n",
    "  \n",
    "- Addition: `5 + 3` evaluates to `8`.  \n",
    "- Subtraction: `10 - 4` evaluates to `6`.  \n",
    "- Multiplication: `2 * 3` evaluates to `6`.  \n",
    "- Division: `8 / 2` evaluates to `4.0` (note the floating-point result).  \n",
    "- Modulus (remainder): `9 % 2` evaluates to `1`.  \n",
    "- Exponentiation: `2 ** 3` evaluates to `8`.  \n"
   ]
  },
  {
   "cell_type": "code",
   "execution_count": 3,
   "id": "b710560a-7438-4783-84ab-9df16b19eb73",
   "metadata": {
    "tags": []
   },
   "outputs": [
    {
     "name": "stdout",
     "output_type": "stream",
     "text": [
      "17\n"
     ]
    }
   ],
   "source": [
    "# This is a simple arithmetic expression to multiply then add integers  \n",
    "result = (3*4) + 5\n",
    "print(result)"
   ]
  },
  {
   "cell_type": "code",
   "execution_count": 4,
   "id": "d33e426c-f95d-4b55-a274-83fdbedbf797",
   "metadata": {
    "tags": []
   },
   "outputs": [
    {
     "name": "stdout",
     "output_type": "stream",
     "text": [
      "3.3333333333333335\n",
      "3.33\n"
     ]
    }
   ],
   "source": [
    "# This will convert 200 minutes to hours by dividing by 60  \n",
    "hours = 200 / 60  \n",
    "print(hours)\n",
    "# This will convert 200 minutes to hours by dividing by 60 and rounding to 2 decimal places  \n",
    "hours_rounded = round(200 / 60, 2)  \n",
    "print(hours_rounded)"
   ]
  },
  {
   "cell_type": "markdown",
   "id": "7af5db86-6097-4330-82a3-8af97ebbbe88",
   "metadata": {},
   "source": [
    "**Objectives**:  \n",
    "  \n",
    "- Understand basic arithmetic operations in Python, including addition, subtraction, multiplication, division, and exponentiation.  \n",
    "- Learn how to use comments to explain code operations.  \n",
    "- Be able to convert units of time, such as minutes to hours, using arithmetic operations.  \n",
    "- Identify and list popular programming languages used in data science, including Python.  \n",
    "- Practice writing and executing code in a Jupyter Notebook environment."
   ]
  },
  {
   "cell_type": "markdown",
   "id": "53da07cd-7b86-4835-9bc0-42717d714489",
   "metadata": {},
   "source": [
    "## Author  \n",
    "  \n",
    "LION TATANION"
   ]
  }
 ],
 "metadata": {
  "kernelspec": {
   "display_name": "Python",
   "language": "python",
   "name": "conda-env-python-py"
  },
  "language_info": {
   "codemirror_mode": {
    "name": "ipython",
    "version": 3
   },
   "file_extension": ".py",
   "mimetype": "text/x-python",
   "name": "python",
   "nbconvert_exporter": "python",
   "pygments_lexer": "ipython3",
   "version": "3.7.12"
  }
 },
 "nbformat": 4,
 "nbformat_minor": 5
}
